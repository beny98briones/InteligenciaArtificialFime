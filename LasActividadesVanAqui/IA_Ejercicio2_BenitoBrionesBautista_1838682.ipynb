{
  "nbformat": 4,
  "nbformat_minor": 0,
  "metadata": {
    "colab": {
      "name": "IA_Ejercicio2_BenitoBrionesBautista_1838682.ipynb",
      "provenance": [],
      "authorship_tag": "ABX9TyO1PAg91TbXRaXiVpW+tmkv",
      "include_colab_link": true
    },
    "kernelspec": {
      "name": "python3",
      "display_name": "Python 3"
    },
    "language_info": {
      "name": "python"
    }
  },
  "cells": [
    {
      "cell_type": "markdown",
      "metadata": {
        "id": "view-in-github",
        "colab_type": "text"
      },
      "source": [
        "<a href=\"https://colab.research.google.com/github/beny98briones/InteligenciaArtificialFime/blob/main/LasActividadesVanAqui/IA_Ejercicio2_BenitoBrionesBautista_1838682.ipynb\" target=\"_parent\"><img src=\"https://colab.research.google.com/assets/colab-badge.svg\" alt=\"Open In Colab\"/></a>"
      ]
    },
    {
      "cell_type": "markdown",
      "metadata": {
        "id": "9nHijqklvgRj"
      },
      "source": [
        "#Actividad 3.- Ejercicios Introducción Python, 2da Parte\n",
        "###Benito Briones Bautista \n",
        "###1838682\n",
        "###Martes N4-N6\n"
      ]
    },
    {
      "cell_type": "markdown",
      "metadata": {
        "id": "-PH1vtoXveEr"
      },
      "source": [
        "#####Ejercicio 1: \n",
        "1.1 Piensa en 7 comidas diferente que te gusten. Implementa un programa que pregunte por las 7 comidas, las almacene en una lista y que posteriermente imprima cada una de ellas utilizando uno de los ciclos comentados en clase.  "
      ]
    },
    {
      "cell_type": "code",
      "metadata": {
        "colab": {
          "base_uri": "https://localhost:8080/",
          "height": 53
        },
        "id": "UIy9f_qOwXlp",
        "outputId": "720da772-ccc5-422c-bb5a-dbf48f1a9006"
      },
      "source": [
        " #1.  Iniciamos con nombrar nuestra lista y solicitar que ingrese los datos\n",
        "Datos = input(\"Ingresa tus 7 comidas favoritas usando coma para:\")\n",
        "Datos\n"
      ],
      "execution_count": 4,
      "outputs": [
        {
          "name": "stdout",
          "output_type": "stream",
          "text": [
            "Ingresa tus 7 comidas favoritas usando coma para: Pizza, Hamburguesas, Tacos de Pastor, Discada, Sushi, Pozole, Chiles Rellenos\n"
          ]
        },
        {
          "output_type": "execute_result",
          "data": {
            "application/vnd.google.colaboratory.intrinsic+json": {
              "type": "string"
            },
            "text/plain": [
              "' Pizza, Hamburguesas, Tacos de Pastor, Discada, Sushi, Pozole, Chiles Rellenos'"
            ]
          },
          "metadata": {},
          "execution_count": 4
        }
      ]
    },
    {
      "cell_type": "code",
      "metadata": {
        "colab": {
          "base_uri": "https://localhost:8080/"
        },
        "id": "SQx1r0pN1b0_",
        "outputId": "0d469634-17ad-4271-b7fb-d822104e8815"
      },
      "source": [
        "# Nombramos un separador que haga que nuestro hilo (string) se convierta en\n",
        "# una lista vertical, en este caso usaremos la coma\n",
        "salto =\",\"\n",
        "lista = Datos.split(salto)\n",
        "lista"
      ],
      "execution_count": 2,
      "outputs": [
        {
          "output_type": "execute_result",
          "data": {
            "text/plain": [
              "[' Pizza',\n",
              " ' Hamburguesas',\n",
              " ' Tacos de Pastor',\n",
              " ' Discada',\n",
              " ' Sushi',\n",
              " ' Pozole',\n",
              " ' Chiles Rellenos']"
            ]
          },
          "metadata": {},
          "execution_count": 2
        }
      ]
    },
    {
      "cell_type": "code",
      "metadata": {
        "colab": {
          "base_uri": "https://localhost:8080/"
        },
        "id": "fB9KerSg2Ia5",
        "outputId": "2de09e8a-1764-46b3-e2a9-52fb6e075af3"
      },
      "source": [
        "# 3. Imprimimos Valores con For y creamos nuestro array\n",
        "print(\"Mis 7 comidas favoritas son:\")\n",
        "for Datos in lista:\n",
        "  print(\"*\",Datos)"
      ],
      "execution_count": 3,
      "outputs": [
        {
          "output_type": "stream",
          "name": "stdout",
          "text": [
            "Mis 7 comidas favoritas son:\n",
            "*  Pizza\n",
            "*  Hamburguesas\n",
            "*  Tacos de Pastor\n",
            "*  Discada\n",
            "*  Sushi\n",
            "*  Pozole\n",
            "*  Chiles Rellenos\n"
          ]
        }
      ]
    },
    {
      "cell_type": "code",
      "metadata": {
        "colab": {
          "base_uri": "https://localhost:8080/"
        },
        "id": "1uMvFt967174",
        "outputId": "026e1464-f0e6-49b4-a00a-0288f66f5961"
      },
      "source": [
        "#Si juntamos el código, nos brincamos algunas partes y solo nos entrega el array final\n",
        "Datos = input(\"Ingresa tus 7 comidas favoritas usando coma para:\")\n",
        "Datos\n",
        "salto =\",\"\n",
        "lista = Datos.split(salto)\n",
        "lista\n",
        "print(\"\\nMis 7 comidas favoritas son:\")\n",
        "for Datos in lista:\n",
        "  print(\"*\",Datos)"
      ],
      "execution_count": 7,
      "outputs": [
        {
          "output_type": "stream",
          "name": "stdout",
          "text": [
            "Ingresa tus 7 comidas favoritas usando coma para: Pizza, Hamburguesas, Tacos de Pastor, Discada, Sushi, Pozole, Chiles Rellenos\n",
            "\n",
            "Mis 7 comidas favoritas son:\n",
            "*  Pizza\n",
            "*  Hamburguesas\n",
            "*  Tacos de Pastor\n",
            "*  Discada\n",
            "*  Sushi\n",
            "*  Pozole\n",
            "*  Chiles Rellenos\n"
          ]
        }
      ]
    },
    {
      "cell_type": "markdown",
      "metadata": {
        "id": "YSUWxv6H8rtl"
      },
      "source": [
        "1.2 Modifica el ejercicio 1.1 para que imprima cada una de las comidas favoritas junto con una oracición inicial: \"Una de mis comidas favoritas es [comida1]\".  \n"
      ]
    },
    {
      "cell_type": "code",
      "metadata": {
        "colab": {
          "base_uri": "https://localhost:8080/"
        },
        "id": "MCAYWi7z8zKJ",
        "outputId": "5cf842c5-4e48-4d40-c165-550f0f1ae542"
      },
      "source": [
        "for Datos in lista:\n",
        "  print(\"Una de mis comidas favoritas es:\",Datos)"
      ],
      "execution_count": 9,
      "outputs": [
        {
          "output_type": "stream",
          "name": "stdout",
          "text": [
            "Una de mis comidas favoritas es:  Pizza\n",
            "Una de mis comidas favoritas es:  Hamburguesas\n",
            "Una de mis comidas favoritas es:  Tacos de Pastor\n",
            "Una de mis comidas favoritas es:  Discada\n",
            "Una de mis comidas favoritas es:  Sushi\n",
            "Una de mis comidas favoritas es:  Pozole\n",
            "Una de mis comidas favoritas es:  Chiles Rellenos\n"
          ]
        }
      ]
    },
    {
      "cell_type": "markdown",
      "metadata": {
        "id": "C7cRxNW49rd0"
      },
      "source": [
        "Ejercicio 2: \n",
        "Crear un juego de piedra, papel o tijera de dos jugadores. El programa preguntará por la opción del jugador 1 y la opción del jugador 2 y dará como resultado quien ganó el juego. "
      ]
    },
    {
      "cell_type": "code",
      "metadata": {
        "colab": {
          "base_uri": "https://localhost:8080/"
        },
        "id": "Td_qxGFO9zYT",
        "outputId": "f2aa5804-697e-43cb-8da7-d87c8f90f25c"
      },
      "source": [
        "#Presentamos el juego y hacemos que ambos jugadores declaren su opcion\n",
        "print(\"Piedra, Papel o Tijera\")\n",
        "P1 = input(\"Jugador 1: Ingresa tu opción: \")\n",
        "P2 = input(\"Jugador 2: Ingresa tu opción: \")"
      ],
      "execution_count": 37,
      "outputs": [
        {
          "name": "stdout",
          "output_type": "stream",
          "text": [
            "Piedra, Papel o Tijera\n",
            "Jugador 1: Ingresa tu opción: piedra\n",
            "Jugador 2: Ingresa tu opción: tijera\n"
          ]
        }
      ]
    },
    {
      "cell_type": "code",
      "metadata": {
        "colab": {
          "base_uri": "https://localhost:8080/"
        },
        "id": "jpDYkE9gCZin",
        "outputId": "bf06b885-b49b-4417-be0b-0a825063cbe6"
      },
      "source": [
        "#Consideramos todas las posibles opciones de resultado y se programan para que se muestren\n",
        "#usamos el argumento elif\n",
        "if P1 ==\"piedra\" and P2 ==\"tijera\" :\n",
        "  print(\"P1 Gana\")\n",
        "elif P1 ==\"piedra\" and P2 ==\"papel\":\n",
        "  print(\"P2 Gana\")\n",
        "elif P1 ==\"piedra\" and P2 ==\"piedra\":\n",
        "  print(\"Empate\")\n",
        "elif P1 ==\"papel\" and P2 ==\"tijera\":\n",
        "  print(\"P2 Gana\")\n",
        "elif P1 ==\"papel\" and P2 ==\"papel\":\n",
        "  print(\"Empate\")\n",
        "elif P1 ==\"papel\" and P2 ==\"piedra\":\n",
        "  print(\"P1 Gana\")\n",
        "elif P1 ==\"tijera\" and P2 ==\"tijera\":\n",
        "  print(\"Empate\")\n",
        "elif P1 ==\"Tijera\" and P2 ==\"papel\":\n",
        "  print(\"P1 Gana\")\n",
        "elif P1 ==\"Tijera\" and CPU ==\"piedra\":\n",
        "  print(\"P2 gana\") "
      ],
      "execution_count": 44,
      "outputs": [
        {
          "output_type": "stream",
          "name": "stdout",
          "text": [
            "P1 Gana\n"
          ]
        }
      ]
    },
    {
      "cell_type": "code",
      "metadata": {
        "colab": {
          "base_uri": "https://localhost:8080/"
        },
        "id": "MhcxaKtFE4gX",
        "outputId": "f6a73f9b-997a-4fa9-9a96-883ae9261854"
      },
      "source": [
        "# Código Junto\n",
        "print(\"Piedra, Papel o Tijera\")\n",
        "P1 = input(\"Jugador 1: Ingresa tu opción: \")\n",
        "P2 = input(\"Jugador 2: Ingresa tu opción: \")\n",
        "print(\"\\nResultado:\")\n",
        "if P1 ==\"piedra\" and P2 ==\"tijera\" :\n",
        "  print(\"P1 Gana\")\n",
        "elif P1 ==\"piedra\" and P2 ==\"papel\":\n",
        "  print(\"P2 Gana\")\n",
        "elif P1 ==\"piedra\" and P2 ==\"piedra\":\n",
        "  print(\"Empate\")\n",
        "elif P1 ==\"papel\" and P2 ==\"tijera\":\n",
        "  print(\"P2 Gana\")\n",
        "elif P1 ==\"papel\" and P2 ==\"papel\":\n",
        "  print(\"Empate\")\n",
        "elif P1 ==\"papel\" and P2 ==\"piedra\":\n",
        "  print(\"P1 Gana\")\n",
        "elif P1 ==\"tijera\" and P2 ==\"tijera\":\n",
        "  print(\"Empate\")\n",
        "elif P1 ==\"Tijera\" and P2 ==\"papel\":\n",
        "  print(\"P1 Gana\")\n",
        "elif P1 ==\"Tijera\" and CPU ==\"piedra\":\n",
        "  print(\"P2 gana\") \n"
      ],
      "execution_count": 43,
      "outputs": [
        {
          "output_type": "stream",
          "name": "stdout",
          "text": [
            "Piedra, Papel o Tijera\n",
            "Jugador 1: Ingresa tu opción: piedra\n",
            "Jugador 2: Ingresa tu opción: tijera\n",
            "\n",
            "Resultado:\n",
            "P1 Gana\n"
          ]
        }
      ]
    },
    {
      "cell_type": "code",
      "metadata": {
        "colab": {
          "base_uri": "https://localhost:8080/"
        },
        "id": "nWbKSV0yDSkG",
        "outputId": "fc741e76-7c8b-44b4-86af-8f5944853f00"
      },
      "source": [
        "###EXTRA ###\n",
        "# Piedra, Papel y Tijera de 1 jugador\n",
        "print(\"Piedra, Papel o Tijera\")\n",
        "import random\n",
        "opciones = (\"piedra\", \"papel\", \"tijera\")\n",
        "P1 = input(\"Ingresa tu opción: \")\n",
        "CPU =random.choice(opciones)\n",
        "print(\"CPU eligió:\",CPU)\n",
        "print(\"\\nResultado:\")\n",
        "if P1 ==\"piedra\" and CPU ==\"tijera\" :\n",
        "  print(\"P1 Gana\")\n",
        "elif P1 ==\"piedra\" and CPU ==\"papel\":\n",
        "    print(\"CPU Gana\")\n",
        "elif P1 ==\"piedra\" and CPU ==\"piedra\":\n",
        "    print(\"Empate\")\n",
        "elif P1 ==\"papel\" and CPU ==\"tijera\":\n",
        "    print(\"CPU Gana\")\n",
        "elif P1 ==\"papel\" and CPU ==\"papel\":\n",
        "    print(\"Empate\")\n",
        "elif P1 ==\"papel\" and CPU ==\"piedra\":\n",
        "    print(\"P1 Gana\")\n",
        "elif P1 ==\"tijera\" and CPU ==\"tijera\":\n",
        "    print(\"Empate\")\n",
        "elif P1 ==\"Tijera\" and CPU ==\"papel\":\n",
        "    print(\"P1 Gana\")\n",
        "elif P1 ==\"Tijera\" and CPU ==\"piedra\":\n",
        "    print(\"CPU gana\") "
      ],
      "execution_count": 35,
      "outputs": [
        {
          "output_type": "stream",
          "name": "stdout",
          "text": [
            "Piedra, Papel o Tijera\n",
            "Ingresa tu opción: piedra\n",
            "CPU eligió: tijera\n",
            "\n",
            "Resultado:\n",
            "Jugador Gana\n"
          ]
        }
      ]
    },
    {
      "cell_type": "markdown",
      "metadata": {
        "id": "9Xfmu4HuGAmg"
      },
      "source": [
        "#####Ejercicio 3\n",
        "Implementar un programa que imprima el siguiente patron:\n",
        "\n",
        "123456\n",
        "#####12345\n",
        "#####1234\n",
        "#####123\n",
        "#####12\n",
        "#####1\n",
        "#####12\n",
        "#####123\n",
        "#####1234\n",
        "#####12345\n",
        "#####123456"
      ]
    },
    {
      "cell_type": "code",
      "metadata": {
        "colab": {
          "base_uri": "https://localhost:8080/"
        },
        "id": "sj09X-XNGRXS",
        "outputId": "e7383414-8f91-4db2-95fd-79e5973fdb8e"
      },
      "source": [
        "# Para comenzar debemos nombrar nuestro primer valor del patron\n",
        "#ya ques este sera el que modificaremos\n",
        "numero = 123456\n",
        "numero"
      ],
      "execution_count": 80,
      "outputs": [
        {
          "output_type": "execute_result",
          "data": {
            "text/plain": [
              "123456"
            ]
          },
          "metadata": {},
          "execution_count": 80
        }
      ]
    },
    {
      "cell_type": "code",
      "metadata": {
        "colab": {
          "base_uri": "https://localhost:8080/"
        },
        "id": "CehQ13K4G9Yn",
        "outputId": "fb27afe7-1ef8-4506-e192-c302497dcd09"
      },
      "source": [
        "#Usaremos la funcion rango ya que nos permite ir retrocediendo con el Step\n",
        "#al llegar a n= 1 haremos el inverso de los pasos para que nos muestre de nueva \n",
        "#cuenta el valor\n",
        "for n in range(6, 0, -1):\n",
        "  print(numero)\n",
        "  numero -= n\n",
        "  numero //= 10\n",
        "  if numero == 1:\n",
        "    for x in range(2, 7):\n",
        "      print(numero)\n",
        "      numero *= 10\n",
        "      numero += x\n",
        "\n",
        " "
      ],
      "execution_count": 81,
      "outputs": [
        {
          "output_type": "stream",
          "name": "stdout",
          "text": [
            "123456\n",
            "12345\n",
            "1234\n",
            "123\n",
            "12\n",
            "1\n",
            "12\n",
            "123\n",
            "1234\n",
            "12345\n",
            "123456\n"
          ]
        }
      ]
    },
    {
      "cell_type": "code",
      "metadata": {
        "colab": {
          "base_uri": "https://localhost:8080/"
        },
        "id": "PFJebVhcKER5",
        "outputId": "497487ae-fbe3-4650-9432-7cc181901a9e"
      },
      "source": [
        "# Código Junto\n",
        "numero = 123456\n",
        "numero\n",
        "for n in range(6, 0, -1):\n",
        "  print(numero)\n",
        "  numero -= n\n",
        "  numero //= 10\n",
        "  if numero == 1:\n",
        "    for x in range(2, 7):\n",
        "      print(numero)\n",
        "      numero *= 10\n",
        "      numero += x"
      ],
      "execution_count": 71,
      "outputs": [
        {
          "output_type": "stream",
          "name": "stdout",
          "text": [
            "123456\n",
            "12345\n",
            "1234\n",
            "123\n",
            "12\n",
            "1\n",
            "12\n",
            "123\n",
            "1234\n",
            "12345\n",
            "123456\n"
          ]
        }
      ]
    }
  ]
}