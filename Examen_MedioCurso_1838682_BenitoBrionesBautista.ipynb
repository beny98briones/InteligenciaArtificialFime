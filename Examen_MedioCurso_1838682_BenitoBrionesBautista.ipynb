{
  "nbformat": 4,
  "nbformat_minor": 0,
  "metadata": {
    "colab": {
      "name": "Examen:MedioCurso_1838682_BenitoBrionesBautista.ipynb",
      "provenance": [],
      "authorship_tag": "ABX9TyPBeSZR4tXJpAyL3KyQXk0T",
      "include_colab_link": true
    },
    "kernelspec": {
      "name": "python3",
      "display_name": "Python 3"
    },
    "language_info": {
      "name": "python"
    }
  },
  "cells": [
    {
      "cell_type": "markdown",
      "metadata": {
        "id": "view-in-github",
        "colab_type": "text"
      },
      "source": [
        "<a href=\"https://colab.research.google.com/github/beny98briones/InteligenciaArtificialFime/blob/main/Examen_MedioCurso_1838682_BenitoBrionesBautista.ipynb\" target=\"_parent\"><img src=\"https://colab.research.google.com/assets/colab-badge.svg\" alt=\"Open In Colab\"/></a>"
      ]
    },
    {
      "cell_type": "markdown",
      "metadata": {
        "id": "RuFEpMJIO8-X"
      },
      "source": [
        "####Examen Medio Curso Inteligencia Artificial\n",
        "#####Benito Briones Bautista 1838682\n",
        "#####Martes N4-N6 "
      ]
    },
    {
      "cell_type": "markdown",
      "metadata": {
        "id": "4pyGYgopPBeO"
      },
      "source": [
        "1.1 El usuario dará un número al azar y el código calculará la suma de todos los números desde el 1 hasta el número dado por el usuario. Ejemplo: el usuario dió el número 4, el código deberá de dar como resultado 10."
      ]
    },
    {
      "cell_type": "code",
      "metadata": {
        "colab": {
          "base_uri": "https://localhost:8080/"
        },
        "id": "URsvhBaJPEVK",
        "outputId": "18741541-f147-46c1-d5ef-fc2f406a4733"
      },
      "source": [
        "numero = int(input(\"Introduzca un número: \"))\n",
        "i = 1\n",
        "suma = 0\n",
        "\n",
        "while i <= numero:\n",
        "  suma = suma + i\n",
        "  i += 1\n",
        "print(\"\\nLa suma desde 1 hasta\",numero,\"es de\",suma)"
      ],
      "execution_count": 13,
      "outputs": [
        {
          "output_type": "stream",
          "name": "stdout",
          "text": [
            "Introduzca un número: 25\n",
            "\n",
            "La suma desde 1 hasta 25 es de 325\n"
          ]
        }
      ]
    },
    {
      "cell_type": "markdown",
      "metadata": {
        "id": "sMg3_K8gPcel"
      },
      "source": [
        "1.2 Dados el inicio y final de un rango de números, guardar ese rango de números en una lista. Después, imprimir los números que son pares en la lista por medio de uno de los ciclos que vimos en clase. \n",
        "Inicio = 6, final = 31"
      ]
    },
    {
      "cell_type": "code",
      "metadata": {
        "colab": {
          "base_uri": "https://localhost:8080/"
        },
        "id": "Q7R_c_C9PieC",
        "outputId": "8497e1ee-b457-43dd-abb3-a4d857f8c2ad"
      },
      "source": [
        "ValorI = int(input(\"Introduce el valor inicial: \"))\n",
        "ValorF = int(input(\"Introduce el valor final: \"))\n",
        "\n",
        "lista = list (range(ValorI, ValorF + 1))\n",
        "\n",
        "print(\"\\nLos numeros pares que se encuentran en el rango de \",ValorI,\"hasta \",ValorF,\"son:\\n\")\n",
        "for i in lista:\n",
        "  if i % 2 == 0:  \n",
        "    print(i)"
      ],
      "execution_count": 15,
      "outputs": [
        {
          "output_type": "stream",
          "name": "stdout",
          "text": [
            "Introduce el valor inicial: 15\n",
            "Introduce el valor final: 30\n",
            "\n",
            "Los numeros pares que se encuentran en el rango de  15 hasta  30 son:\n",
            "\n",
            "16\n",
            "18\n",
            "20\n",
            "22\n",
            "24\n",
            "26\n",
            "28\n",
            "30\n"
          ]
        }
      ]
    }
  ]
}