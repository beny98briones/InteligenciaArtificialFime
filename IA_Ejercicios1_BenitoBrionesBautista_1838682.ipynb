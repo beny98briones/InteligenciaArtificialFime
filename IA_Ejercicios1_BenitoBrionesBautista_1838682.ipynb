{
  "nbformat": 4,
  "nbformat_minor": 0,
  "metadata": {
    "colab": {
      "name": "IA_Ejercicios1_BenitoBrionesBautista_1838682.ipynb",
      "provenance": [],
      "authorship_tag": "ABX9TyNuSCB4a9g1TxhXgPhGqI+8",
      "include_colab_link": true
    },
    "kernelspec": {
      "name": "python3",
      "display_name": "Python 3"
    },
    "language_info": {
      "name": "python"
    }
  },
  "cells": [
    {
      "cell_type": "markdown",
      "metadata": {
        "id": "view-in-github",
        "colab_type": "text"
      },
      "source": [
        "<a href=\"https://colab.research.google.com/github/beny98briones/InteligenciaArtificialFime/blob/main/IA_Ejercicios1_BenitoBrionesBautista_1838682.ipynb\" target=\"_parent\"><img src=\"https://colab.research.google.com/assets/colab-badge.svg\" alt=\"Open In Colab\"/></a>"
      ]
    },
    {
      "cell_type": "markdown",
      "metadata": {
        "id": "ONq6QkVqbFky"
      },
      "source": [
        "#Actividad 2.- Ejercicios Introducción Python\n",
        "###Benito Briones Bautista \n",
        "###1838682\n",
        "###Martes N4-N6"
      ]
    },
    {
      "cell_type": "markdown",
      "metadata": {
        "id": "qn6vWS58uuad"
      },
      "source": [
        "Ejercicio 1. Crear un programa que pregunte al usuario por su nombre, edad, una frase favorita y autor de la frase favorita. El programa deberá de imprimir un mensaje compuesto por el nombre y edad del usuario diciendo que su frase favorita es la que dió anteriormente y el autor de dicha frase es el nombre previamente dado. Aquí habrá que realizar una concatenación de variables\n"
      ]
    },
    {
      "cell_type": "code",
      "metadata": {
        "colab": {
          "base_uri": "https://localhost:8080/"
        },
        "id": "QYOF7VITvYuH",
        "outputId": "44f3fe70-a6d5-44b0-d245-476a99160342"
      },
      "source": [
        "print(\"Este es el Ejercicio 1\\n\")\n",
        "\n",
        "\"\"\" El primer paso es ingresar los datos solicitados en nuestro ejercicio con el comando input que nos permite asignar un nombre \n",
        "y permite escribir el mensaje de la interfaz que será usado para obtener el dato solicitado.\"\"\"\n",
        "\n",
        "nombre = input(\"Ingresa tu Nombre Completo: \")\n",
        "edad = input(\"Ingresa tu Edad: \")\n",
        "frase= input(\"Ingresa tu Frase Favorita: \")\n",
        "autor= input(\"Ingresa el Autor de la Frase: \")\n",
        "\n",
        "\"\"\"Ya que el valor de la edad es númerico procedemos a declararlo como un int, que significa número entero \n",
        "para que sea utilizado como número y no un string (hilo de caracteres). \"\"\"\n",
        "edad= int(edad)\n",
        "print(\"\\n\")\n",
        "\n",
        "\"\"\" Procedemos a unir el mensaje como lo solicita la instrucción, para poder dar continuidad entre texto impreso y datos obtenidos se utilizan comas. \"\"\"\n",
        "print(nombre,\"tiene\",edad,\"años, y su frase favorita es '\",frase,\"' dicha por \",autor)"
      ],
      "execution_count": 52,
      "outputs": [
        {
          "output_type": "stream",
          "name": "stdout",
          "text": [
            "Este es el Ejercicio 1\n",
            "\n",
            "Ingresa tu Nombre Completo: Benito Briones\n",
            "Ingresa tu Edad: 23\n",
            "Ingresa tu Frase Favorita: This Is The Way\n",
            "Ingresa el Autor de la Frase: The Mandalorian\n",
            "\n",
            "\n",
            "Benito Briones tiene 23 años, y su frase favorita es ' This Is The Way ' dicha por  The Mandalorian\n"
          ]
        }
      ]
    },
    {
      "cell_type": "markdown",
      "metadata": {
        "id": "IxieTC23zgI9"
      },
      "source": [
        "Ejercicio 2: Crear un programa que le pida al usuario capturar dos números enteros y dos números flotantes. Después, realizará la suma, resta, multiplicación y división, de ambos pares de números. Como resultado se deberán de obtener 8 valores. Imprimir todos estos reultados."
      ]
    },
    {
      "cell_type": "code",
      "metadata": {
        "colab": {
          "base_uri": "https://localhost:8080/"
        },
        "id": "8SLEXjKqzmvH",
        "outputId": "bfde22a2-b534-49ab-e146-73b1915ed9f4"
      },
      "source": [
        "print(\"Este es el Ejercicio 2\\n\")\n",
        "\n",
        "\"\"\" Solicitamos ingresar dos valores (a) y (b) que en este ejercicio seran numéricos con el comando input. \"\"\"\n",
        "a= input(\"1. Ingresa el primer valor entero: \")\n",
        "b= input(\"2. Ingresa el segundo valor entero: \")\n",
        "\n",
        "\"\"\"Deseamos ingresar valores enteros por lo cual los input son declarados como int, que significa integer (entero), y no pueden llevar decimales.\"\"\"\n",
        "a=int(a)\n",
        "b=int(b)\n",
        "\n",
        "\"\"\" Se procede a realizar las 4 operaciones basicas, para esto se usan los simbolos + (suma), - (resta), * (multiplicación) , / (división). \"\"\"\n",
        "print(\"\\nLa suma de\",a,\"+\",b,\"es\",a+b,\".\")\n",
        "print(\"La resta de\",a,\"-\",b,\"es\",a-b,\".\")\n",
        "print(\"El producto de\",a,\"*\",b,\"es\",a*b,\".\")\n",
        "print(\"El residuo de\",a,\"/\",b,\"es\",a/b,\".\")\n",
        "print(\"\\n\")\n",
        "\n",
        "\"\"\" De igual manera haremos lo mismo pero para dos valores con decimales, primero se deben ingresar a la memoria con el comando input como ya se explico. \"\"\"\n",
        "c= input(\"3. Ingresa el primer valor incluyendo decimales: \")\n",
        "d= input(\"4. Ingresa el segundo valor incluyendo decimales: \")\n",
        "\n",
        "\"\"\"Ahora estos dos numeros serán declarados como float (flotantes), y podran utilizar decimales\"\"\"\n",
        "c=float(c)\n",
        "d=float(d)\n",
        "\n",
        "\"\"\"Las operaciones aritmeticas se llevan a cabo de la misma manera que las 4 anteriores. \"\"\"\n",
        "print(\"\\nLa suma de\",c,\"+\",d,\"es\",c+d,\".\")\n",
        "print(\"La resta de\",c,\"-\",d,\"es\",c-d,\".\")\n",
        "print(\"El producto de\",c,\"*\",d,\"es\",c*d,\".\")\n",
        "print(\"El residuo de\",c,\"/\",d,\"es\",c/d,\".\")\n"
      ],
      "execution_count": 56,
      "outputs": [
        {
          "output_type": "stream",
          "name": "stdout",
          "text": [
            "Este es el Ejercicio 2\n",
            "\n",
            "1. Ingresa el primer valor entero: 15\n",
            "2. Ingresa el segundo valor entero: 5\n",
            "\n",
            "La suma de 15 + 5 es 20 .\n",
            "La resta de 15 - 5 es 10 .\n",
            "El producto de 15 * 5 es 75 .\n",
            "El residuo de 15 / 5 es 3.0 .\n",
            "\n",
            "\n",
            "3. Ingresa el primer valor incluyendo decimales: .14\n",
            "4. Ingresa el segundo valor incluyendo decimales: 8.88\n",
            "\n",
            "La suma de 0.14 + 8.88 es 9.020000000000001 .\n",
            "La resta de 0.14 - 8.88 es -8.74 .\n",
            "El producto de 0.14 * 8.88 es 1.2432000000000003 .\n",
            "El residuo de 0.14 / 8.88 es 0.015765765765765764 .\n"
          ]
        }
      ]
    },
    {
      "cell_type": "markdown",
      "metadata": {
        "id": "eLyzGJir5iF3"
      },
      "source": [
        "Ejercicio 3: Crear un programa que evalúe dos expresiones lógicas con `and`, dos con `or` y dos con `not`. Cada expresión deberá hacer uso de operadores de comparación. "
      ]
    },
    {
      "cell_type": "code",
      "metadata": {
        "colab": {
          "base_uri": "https://localhost:8080/",
          "height": 355
        },
        "id": "Kfz9wUVC5kPn",
        "outputId": "9ded7a63-8034-44c0-f2e1-5e50f9fef431"
      },
      "source": [
        "print(\"Este es el Ejercicio 3\\n\")\n",
        "\"\"\"Para este ejercicio tendremos que hacer comparaciones para demostrar los operadores lógicos \n",
        "por lo que le pedimos al ususrio ingresar 3 numeros, con la funcion input\"\"\"\n",
        "print(\"Ingrese 3 numeros entre 1 y 10.\")\n",
        "a= input(\"Ingresa el primer número: \")\n",
        "b= input(\"Ingresa el segundo número: \")\n",
        "c= input(\"Ingresa el tercer número: \")\n",
        "\n",
        "\"\"\" Para mas practicidad se decidio que fueran float y que estos numeros puedan tener decimales\"\"\"\n",
        "a = float(a)\n",
        "b = float(b)\n",
        "c= float(c)\n",
        "\n",
        "\"\"\"Empezamos con el comparador and que indica que debemos de cumplir las dos condiciones para ser considerado verdadero, de lo contrario sera falso \"\"\"\n",
        "print(\"\\nOperador AND\")\n",
        "a1 = a > b and b != c\n",
        "a2 = a == c and b > a\n",
        "print(\"A1 = \",a1,\"\\nA2 = \",a2)\n",
        "\n",
        "\"\"\"En el operador or al cumplir una sola de las condiciones, se le considera verdadero, solo sera falso si ninguna lo cumple \"\"\"\n",
        "print(\"\\nOperador OR\")\n",
        "b1 = a != c or b < a\n",
        "b2 = c < a or a == b\n",
        "print(\"B1 = \",b1,\"\\nB2 = \",b2)\n",
        "\n",
        "\"\"\"Este operador lo que hace es invertir un booleano, si el booleano es falso, el not lo volvera verdadero y viceversa \"\"\"\n",
        "print(\"\\nOperador NOT\")\n",
        "c1 = not(a > b and b != c)\n",
        "c2 = not(a == c and b > a)\n",
        "print(\"C1 = \",c1,\"\\nC2 = \",c2)\n",
        "\n",
        "\"\"\"Como observamos C1 y C2 son el not de los argumentos A1 y A2 respectivamente y cumplen su función correctamente\"\"\""
      ],
      "execution_count": 69,
      "outputs": [
        {
          "output_type": "stream",
          "name": "stdout",
          "text": [
            "Este es el Ejercicio 3\n",
            "\n",
            "Ingrese 3 numeros entre 1 y 10.\n",
            "Ingresa el primer número: 5\n",
            "Ingresa el segundo número: 8\n",
            "Ingresa el tercer número: 9\n",
            "\n",
            "Operador AND\n",
            "A1 =  False \n",
            "A2 =  False\n",
            "\n",
            "Operador OR\n",
            "B1 =  True \n",
            "B2 =  False\n",
            "\n",
            "Operador NOT\n",
            "C1 =  True \n",
            "C2 =  True\n"
          ]
        },
        {
          "output_type": "execute_result",
          "data": {
            "application/vnd.google.colaboratory.intrinsic+json": {
              "type": "string"
            },
            "text/plain": [
              "'Como observamos C1 y C2 son el not de los argumentos A1 y A2 respectivamente y cumplen su función correctamente'"
            ]
          },
          "metadata": {},
          "execution_count": 69
        }
      ]
    }
  ]
}